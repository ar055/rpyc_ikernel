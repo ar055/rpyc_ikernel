{
 "cells": [
  {
   "cell_type": "code",
   "execution_count": 1,
   "metadata": {},
   "outputs": [
    {
     "name": "stdout",
     "output_type": "stream",
     "text": [
      "[display] tips: os.environ(export) not _MAIX_WIDTH_ or _MAIX_HEIGHT_.\n",
      "uname_result(system='Linux', node='sipeed', release='4.9.118', version='#3 PREEMPT Mon Jan 25 05:20:05 UTC 2021', machine='armv7l', processor='')\n"
     ]
    }
   ],
   "source": [
    "#connect(\"localhost\")\n",
    "$connect(\"192.168.0.156\")\n",
    "\n",
    "import platform\n",
    "print(platform.uname())\n"
   ]
  },
  {
   "cell_type": "code",
   "execution_count": 1,
   "metadata": {},
   "outputs": [
    {
     "data": {
      "image/jpeg": "[encoded data removed]"
     },
     "metadata": {},
     "output_type": "display_data"
    },
    {
     "name": "stdout",
     "output_type": "stream",
     "text": [
      "\r\n",
      "Traceback (most recent call last):\r\n",
      "  File \"<string>\", line unknown, in <module>\r\n",
      "Remote.KeyboardInterrupt\r\n",
      "\n"
     ]
    }
   ],
   "source": [
    "from maix import nn\n",
    "from PIL import Image, ImageDraw, ImageFont\n",
    "from maix import camera, display\n",
    "\n",
    "# /root/classes_label.py\n",
    "from root.classes_label import labels\n",
    "\n",
    "font = ImageFont.truetype(\"/root/SourceHanSansCN-Normal.ttf\", 25, encoding=\"unic\")  # 设置字体\n",
    "\n",
    "model = {\n",
    "    \"param\": \"/root/models/resnet_awnn.param\",\n",
    "    \"bin\": \"/root/models/resnet_awnn.bin\"\n",
    "}\n",
    "\n",
    "display.local_show(True)\n",
    "\n",
    "# display.local_show(False)\n",
    "# display.hook(clear_output=True)\n",
    "\n",
    "camera.config(size=(224, 224))\n",
    "\n",
    "options = {\n",
    "    \"model_type\":  \"awnn\",\n",
    "    \"inputs\": {\n",
    "        \"input0\": (224, 224, 3)\n",
    "    },\n",
    "    \"outputs\": {\n",
    "        \"output0\": (1, 1, 1000)\n",
    "    },\n",
    "    \"first_layer_conv_no_pad\": False,\n",
    "    \"mean\": [127.5, 127.5, 127.5],\n",
    "    \"norm\": [0.00784313725490196, 0.00784313725490196, 0.00784313725490196],\n",
    "}\n",
    "print(\"-- load model:\", model)\n",
    "m = nn.load(model, opt=options)\n",
    "print(\"-- load ok\")\n",
    "\n",
    "while True:\n",
    "    img = camera.capture()\n",
    "    if not img:\n",
    "        time.sleep(0.02)\n",
    "        continue\n",
    "    out = m.forward(img, quantize=True)\n",
    "    out = nn.F.softmax(out)\n",
    "    msg = \"{:.2f}\\n{}\".format(out.max(), labels[out.argmax()])\n",
    "#     print(msg)\n",
    "    draw = ImageDraw.Draw(img)\n",
    "    draw.text((0, 0), msg, fill=(255, 0, 0), font=font)\n",
    "    \n",
    "    display.show(img)\n",
    "\n"
   ]
  },
  {
   "cell_type": "code",
   "execution_count": null,
   "metadata": {},
   "outputs": [],
   "source": []
  }
 ],
 "metadata": {
  "kernelspec": {
   "display_name": "RPyc-Python",
   "language": "Python",
   "name": "rpyc"
  },
  "language_info": {
   "codemirror_mode": "python",
   "file_extension": ".py",
   "mimetype": "text/python",
   "name": "Python"
  }
 },
 "nbformat": 4,
 "nbformat_minor": 4
}
