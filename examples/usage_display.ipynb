{
 "cells": [
  {
   "cell_type": "code",
   "execution_count": 1,
   "metadata": {},
   "outputs": [
    {
     "output_type": "stream",
     "name": "stdout",
     "text": [
      "uname_result(system='Linux', node='sipeed', release='4.9.118', version='#3 PREEMPT Mon Jan 25 05:20:05 UTC 2021', machine='armv7l', processor='')\n",
      "Tue Jan 26 08:28:56 2021\n"
     ]
    }
   ],
   "source": [
    "$connect(\"192.168.0.156\")\n",
    "import platform\n",
    "print(platform.uname())\n",
    "import time\n",
    "print(time.asctime())"
   ]
  },
  {
   "cell_type": "code",
   "execution_count": 1,
   "metadata": {
    "scrolled": false
   },
   "outputs": [
    {
     "output_type": "stream",
     "name": "stdout",
     "text": [
      "[camera] run config(size=(w, h)) before capture.\n",
      "[camera] config input size(480, 360)\n"
     ]
    }
   ],
   "source": [
    "from maix import display, camera\n",
    "while True:\n",
    "    im = camera.capture()\n",
    "    if im:\n",
    "        display.show(im)\n"
   ]
  },
  {
   "cell_type": "code",
   "execution_count": null,
   "metadata": {},
   "outputs": [],
   "source": []
  }
 ],
 "metadata": {
  "kernelspec": {
   "display_name": "RPyc-Python",
   "language": "Python",
   "name": "rpyc"
  },
  "language_info": {
   "codemirror_mode": "python",
   "file_extension": ".py",
   "mimetype": "text/python",
   "name": "Python"
  }
 },
 "nbformat": 4,
 "nbformat_minor": 4
}