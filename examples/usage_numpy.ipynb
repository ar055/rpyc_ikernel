{
 "cells": [
  {
   "cell_type": "code",
   "execution_count": 1,
   "metadata": {},
   "outputs": [
    {
     "name": "stdout",
     "output_type": "stream",
     "text": [
      "[[1 2 3]\n",
      " [4 5 6]]\n",
      "number of dim: 2\n",
      "shape: (2, 3)\n",
      "size: 6\n"
     ]
    }
   ],
   "source": [
    "#connect(\"localhost\")\n",
    "$connect(\"192.168.43.144\")\n",
    "\n",
    "import numpy as np\n",
    "\n",
    "array = np.array([[1,2,3],[4,5,6]])\n",
    "print(array)\n",
    "print('number of dim:', array.ndim)\n",
    "print('shape:',array.shape)\n",
    "print('size:',array.size)"
   ]
  },
  {
   "cell_type": "code",
   "execution_count": 1,
   "metadata": {},
   "outputs": [
    {
     "name": "stdout",
     "output_type": "stream",
     "text": [
      "[[-1.27654328 -1.0317064  -1.40746514 -0.7166965 ]\n",
      " [ 0.20615919 -1.60527329  0.96918109  0.55470053]\n",
      " [-0.97293677  0.48915093  1.78273845 -0.13884444]]\n"
     ]
    }
   ],
   "source": [
    "import numpy as np\n",
    "a = np.array([1.,2,3])\n",
    "# print(a.dtype) #默认是int64,如果数组里有浮点数则默认为float64\n",
    "#转换浮点类型为int32类型\n",
    "a = a.astype(np.int32)\n",
    "# print(a)\n",
    "\n",
    "#arange范围函数,起点(包含)，终点(不包含)，步数，类型\n",
    "a = np.arange(1,101,1,np.float32)\n",
    "# print(a)\n",
    "a = a.reshape([10,10])\n",
    "# print(a)\n",
    "\n",
    "#范围内均予分布 起点(包含)，终点（包含），均予份数\n",
    "a = np.linspace(1.,10.,100)\n",
    "# print(a)\n",
    "\n",
    "# 1代表最小维度行的列数，2代表最小维度行的行数--》2行一列可看成最小单位；3：3个最小单位为第二最小单位，再继续三个第二最小单位为第三最小单位\n",
    "a = np.indices((3,2,1))\n",
    "# print(a)\n",
    "\n",
    "# 全0矩阵\n",
    "a = np.zeros(shape=(3,4),dtype=float)\n",
    "# print(a)\n",
    "\n",
    "# 全1矩阵\n",
    "#np.ones(shape=(3,4),dtype=float)\n",
    "\n",
    "# 对角矩阵\n",
    "a = np.diag([1,2,3])\n",
    "# print(a)\n",
    "a = np.diag(np.array([[1,0,0],[0,2,0],[0,0,3]]))\n",
    "# print(a)\n",
    "\n",
    "# 幂零矩阵\n",
    "a = np.eye(3)\n",
    "# print(a)\n",
    "\n",
    "#随机函数创建 3,4为size\n",
    "a = np.random.rand(3,4)\n",
    "# print(a)\n",
    "#4:最大数字（不包含）\n",
    "a = np.random.randint(4,size=(3,4))\n",
    "# print(a)\n",
    "#正态分布\n",
    "a = np.random.randn(3,4)\n",
    "print(a)"
   ]
  }
 ],
 "metadata": {
  "kernelspec": {
   "display_name": "RPyc-Python",
   "language": "Python",
   "name": "rpyc"
  },
  "language_info": {
   "codemirror_mode": "python",
   "file_extension": ".py",
   "mimetype": "text/python",
   "name": "Python"
  }
 },
 "nbformat": 4,
 "nbformat_minor": 4
}
