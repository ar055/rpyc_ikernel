{
 "cells": [
  {
   "cell_type": "code",
   "execution_count": 1,
   "metadata": {},
   "outputs": [
    {
     "name": "stdout",
     "output_type": "stream",
     "text": [
      "uname_result(system='Linux', node='sipeed', release='4.9.118', version='#7 PREEMPT Mon Dec 7 10:27:38 UTC 2020', machine='armv7l', processor='')\n",
      "   __  ___     _        __   _               \n",
      "  /  |/  /__ _(_)_ __  / /  (_)__  __ ____ __\n",
      " / /|_/ / _ `/ /\\ \\ / / /__/ / _ \\/ // /\\ \\ /\n",
      "/_/  /_/\\_,_/_//_\\_\\ /____/_/_//_/\\_,_//_\\_\\ \n",
      " ----------------------------------------------\n",
      "\n",
      "\n"
     ]
    }
   ],
   "source": [
    "!connect(\"192.168.0.170\")\n",
    "\n",
    "import platform\n",
    "print(platform.uname())\n",
    "\n",
    "import os\n",
    "print(os.popen('cat cat /etc/banner').read())\n",
    "\n",
    "import os\n",
    "print(os.popen('ln -s /usr/sbin/fbviewer /usr/sbin/display').read())"
   ]
  },
  {
   "cell_type": "code",
   "execution_count": 1,
   "metadata": {},
   "outputs": [
    {
     "data": {
      "image/png": "[encoded data removed]"
     },
     "metadata": {},
     "output_type": "display_data"
    }
   ],
   "source": [
    "# -*- coding: UTF-8 -*-  \n",
    "\n",
    "from PIL import Image\n",
    "from PIL import ImageDraw\n",
    "from PIL import ImageFont\n",
    "\n",
    "import io\n",
    "get_buffer = io.BytesIO()\n",
    "\n",
    "def draw_test():\n",
    "    \n",
    "    # 生成绘图画布\n",
    "#     import numpy as np\n",
    "#     array = np.ndarray((240, 240, 3), np.uint8)\n",
    "#     array[:, :, 0] = 255\n",
    "#     array[:, :, 1] = 0\n",
    "#     array[:, :, 2] = 0\n",
    "#     image = Image.fromarray(array)\n",
    "\n",
    "    image = Image.new(\"RGB\", (240, 240), \"#FF0000\")\n",
    "    # 创建绘制对象\n",
    "    draw = ImageDraw.Draw(image)\n",
    "\n",
    "    # 绘制直线\n",
    "    draw.line((20, 20, 200, 200), 'cyan')\n",
    "\n",
    "    # 绘制矩形\n",
    "    draw.rectangle((30, 20, 60, 80), (255, 255, 255), 'red')\n",
    "\n",
    "    # 绘制弧\n",
    "    draw.arc((110, 150, 150, 180), 0, 180, 'yellow')\n",
    "    draw.arc((110, 150, 150, 180), -90, 0, 'green')\n",
    "\n",
    "    # 绘制弦\n",
    "    draw.chord((135, 100, 230, 180), 0, 120, 'khaki', 'orange')\n",
    "\n",
    "    # 绘制圆饼图\n",
    "    draw.pieslice((135, 100, 220, 180), -150, -30, 'pink', 'crimson')\n",
    "\n",
    "    # 绘制椭圆\n",
    "    draw.ellipse((135, 130, 150, 140), 'yellowgreen', 'wheat')\n",
    "    \n",
    "    # 外切矩形为正方形时椭圆即为圆\n",
    "    draw.ellipse((155, 20, 200, 80), (0, 255, 0), 'skyblue')\n",
    "\n",
    "    # 绘制五角多边形\n",
    "    draw.polygon((131, 77, 131, 122, 88, 136, 62, 100, 88, 63), 'skyblue', 'hotpink')\n",
    "    \n",
    "    # 绘制文本\n",
    "    font = ImageFont.truetype(\"/home/simple.ttf\", 40, encoding=\"unic\")  # 设置字体\n",
    "    draw.text((10, 180), u'你好，世界。', (50, 50, 50), font)\n",
    "\n",
    "    image.show()\n",
    "    \n",
    "    !display(\"get_buffer\", 1)\n",
    "    image.save(get_buffer, format='PNG')  # show jupyter notebook\n",
    "\n",
    "\n",
    "draw_test()\n"
   ]
  },
  {
   "cell_type": "code",
   "execution_count": null,
   "metadata": {},
   "outputs": [],
   "source": []
  }
 ],
 "metadata": {
  "kernelspec": {
   "display_name": "RPyc-Python",
   "language": "Python",
   "name": "rpyc"
  },
  "language_info": {
   "codemirror_mode": "python",
   "file_extension": ".py",
   "mimetype": "text/python",
   "name": "Python"
  }
 },
 "nbformat": 4,
 "nbformat_minor": 4
}
