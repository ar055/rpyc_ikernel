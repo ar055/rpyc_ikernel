{
 "cells": [
  {
   "cell_type": "code",
   "execution_count": 1,
   "metadata": {},
   "outputs": [
    {
     "name": "stderr",
     "output_type": "stream",
     "text": [
      "2020-12-30 10:10:56,075 - rpyc_ikernel - INFO - uname_result(system='Linux', node='juwan-N85-N870HL', release='5.4.0-58-generic', version='#64-Ubuntu SMP Wed Dec 9 08:16:25 UTC 2020', machine='x86_64', processor='x86_64')\n"
     ]
    },
    {
     "name": "stdout",
     "output_type": "stream",
     "text": [
      "Wed Dec 30 02:10:56 2020\n"
     ]
    }
   ],
   "source": [
    "!connect(\"192.168.0.171\")\n",
    "\n",
    "!exec(import platform)\n",
    "!exec(self.log.info(platform.uname()))\n",
    "\n",
    "import time\n",
    "print(time.asctime())"
   ]
  },
  {
   "cell_type": "code",
   "execution_count": 1,
   "metadata": {},
   "outputs": [],
   "source": [
    "import platform\n",
    "result = platform.uname() # 这里配置了远端的域内变量（result）。"
   ]
  },
  {
   "cell_type": "code",
   "execution_count": 1,
   "metadata": {},
   "outputs": [
    {
     "name": "stdout",
     "output_type": "stream",
     "text": [
      "uname_result(system='Linux', node='sipeed', release='4.9.118', version='#110 PREEMPT Fri Dec 25 08:16:04 UTC 2020', machine='armv7l', processor='')\n"
     ]
    }
   ],
   "source": [
    "!exec(print(self.remote.namespace['result'])) # 这里演示了获取远端的域内变量（result）。"
   ]
  },
  {
   "cell_type": "code",
   "execution_count": 1,
   "metadata": {},
   "outputs": [
    {
     "name": "stderr",
     "output_type": "stream",
     "text": [
      "2020-12-30 10:11:32,316 - rpyc_ikernel - ERROR - result expired\n"
     ]
    }
   ],
   "source": [
    "import custom\n",
    "custom.Custom()"
   ]
  },
  {
   "cell_type": "code",
   "execution_count": null,
   "metadata": {},
   "outputs": [],
   "source": []
  }
 ],
 "metadata": {
  "kernelspec": {
   "display_name": "RPyc-Python",
   "language": "Python",
   "name": "rpyc"
  },
  "language_info": {
   "codemirror_mode": "python",
   "file_extension": ".py",
   "mimetype": "text/python",
   "name": "Python"
  }
 },
 "nbformat": 4,
 "nbformat_minor": 4
}
