{
 "cells": [
  {
   "cell_type": "code",
   "execution_count": 1,
   "metadata": {
    "scrolled": true
   },
   "outputs": [
    {
     "name": "stdout",
     "output_type": "stream",
     "text": [
      "uname_result(system='Linux', node='sipeed', release='4.9.118', version='#110 PREEMPT Fri Dec 25 08:16:04 UTC 2020', machine='armv7l', processor='')\n",
      "   __  ___     _        __   _               \n",
      "  /  |/  /__ _(_)_ __  / /  (_)__  __ ____ __\n",
      " / /|_/ / _ `/ /\\ \\ / / /__/ / _ \\/ // /\\ \\ /\n",
      "/_/  /_/\\_,_/_//_\\_\\ /____/_/_//_/\\_,_//_\\_\\ \n",
      " ----------------------------------------------\n",
      "\n"
     ]
    }
   ],
   "source": [
    "#connect(\"localhost\")\n",
    "$connect(\"192.168.43.144\")\n",
    "\n",
    "import platform\n",
    "print(platform.uname())\n",
    "\n",
    "import os\n",
    "print(os.popen('cat cat /etc/banner').read())\n"
   ]
  },
  {
   "cell_type": "code",
   "execution_count": 1,
   "metadata": {},
   "outputs": [
    {
     "data": {
      "image/jpeg": "[encoded data removed]"
     },
     "metadata": {},
     "output_type": "display_data"
    }
   ],
   "source": [
    "from maix import display\n",
    "\n",
    "display.show()"
   ]
  },
  {
   "cell_type": "code",
   "execution_count": 1,
   "metadata": {
    "scrolled": true
   },
   "outputs": [
    {
     "data": {
      "image/jpeg": "[encoded data removed]"
     },
     "metadata": {},
     "output_type": "display_data"
    },
    {
     "name": "stderr",
     "output_type": "stream",
     "text": [
      "2021-01-03 00:07:07,356 - rpyc_ikernel - ERROR - \r\n",
      "Traceback (most recent call last):\r\n",
      "  File \"<string>\", line 1, in <module>\r\n",
      "KeyboardInterrupt\r\n",
      "\n"
     ]
    }
   ],
   "source": [
    "import random\n",
    "\n",
    "display.clear_output = True\n",
    "\n",
    "while True:\n",
    "    display.clear((int(random.random() * 100), int(random.random() * 100), int(random.random() * 100)))\n"
   ]
  },
  {
   "cell_type": "code",
   "execution_count": 1,
   "metadata": {},
   "outputs": [
    {
     "data": {
      "image/jpeg": "[encoded data removed]"
     },
     "metadata": {},
     "output_type": "display_data"
    },
    {
     "data": {
      "image/jpeg": "[encoded data removed]"
     },
     "metadata": {},
     "output_type": "display_data"
    }
   ],
   "source": [
    "import time\n",
    "display.clear_output = False\n",
    "display.show()\n",
    "time.sleep(1)\n",
    "display.show()\n",
    "time.sleep(1)"
   ]
  },
  {
   "cell_type": "code",
   "execution_count": null,
   "metadata": {},
   "outputs": [],
   "source": []
  }
 ],
 "metadata": {
  "kernelspec": {
   "display_name": "RPyc-Python",
   "language": "Python",
   "name": "rpyc"
  },
  "language_info": {
   "codemirror_mode": "python",
   "file_extension": ".py",
   "mimetype": "text/python",
   "name": "Python"
  }
 },
 "nbformat": 4,
 "nbformat_minor": 4
}
