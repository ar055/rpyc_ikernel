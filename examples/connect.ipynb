{
 "cells": [
  {
   "cell_type": "code",
   "execution_count": null,
   "metadata": {},
   "outputs": [],
   "source": [
    "# 请将 \"localhost\" 修改成设备的 IP 地址，即可连接你的硬件。\n",
    "!connect(\"localhost\")\n",
    "\n",
    "# 连接成功会显示远端机器的硬件信息。\n",
    "import platform\n",
    "print(platform.uname())"
   ]
  },
  {
   "cell_type": "code",
   "execution_count": 1,
   "metadata": {},
   "outputs": [],
   "source": [
    "import platform"
   ]
  },
  {
   "cell_type": "code",
   "execution_count": 1,
   "metadata": {},
   "outputs": [
    {
     "name": "stdout",
     "output_type": "stream",
     "text": [
      "uname_result(system='Windows', node='XPS13-JUWAN', release='10', version='10.0.18362', machine='AMD64', processor='Intel64 Family 6 Model 142 Stepping 10, GenuineIntel')\n"
     ]
    }
   ],
   "source": [
    "print(platform.uname())"
   ]
  },
  {
   "cell_type": "code",
   "execution_count": 1,
   "metadata": {},
   "outputs": [
    {
     "name": "stderr",
     "output_type": "stream",
     "text": [
      "2020-12-18 22:17:11,008 - rpyc_ikernel - ERROR - name 'platform' is not defined\n",
      "\n",
      "========= Remote Traceback (1) =========\n",
      "Traceback (most recent call last):\n",
      "  File \"C:\\Users\\Juwan\\AppData\\Local\\Programs\\Python\\Python35-32\\lib\\site-packages\\rpyc\\core\\protocol.py\", line 320, in _dispatch_request\n",
      "    res = self._HANDLERS[handler](self, *args)\n",
      "  File \"C:\\Users\\Juwan\\AppData\\Local\\Programs\\Python\\Python35-32\\lib\\site-packages\\rpyc\\core\\protocol.py\", line 593, in _handle_call\n",
      "    return obj(*args, **dict(kwargs))\n",
      "  File \"C:\\Users\\Juwan\\AppData\\Local\\Programs\\Python\\Python35-32\\lib\\site-packages\\rpyc\\core\\service.py\", line 152, in execute\n",
      "    execute(text, self.namespace)\n",
      "  File \"<string>\", line 2, in <module>\n",
      "NameError: name 'platform' is not defined\n",
      "\n"
     ]
    }
   ],
   "source": [
    "!connect(\"localhost\")\n",
    "# 当它重新连接以后环境是干净的，所以会报 name 'platform' is not defined 。\n",
    "print(platform.uname())"
   ]
  },
  {
   "cell_type": "code",
   "execution_count": 1,
   "metadata": {},
   "outputs": [],
   "source": [
    "import platform"
   ]
  },
  {
   "cell_type": "code",
   "execution_count": 1,
   "metadata": {},
   "outputs": [
    {
     "name": "stdout",
     "output_type": "stream",
     "text": [
      "uname_result(system='Windows', node='XPS13-JUWAN', release='10', version='10.0.18362', machine='AMD64', processor='Intel64 Family 6 Model 142 Stepping 10, GenuineIntel')\n"
     ]
    }
   ],
   "source": [
    "print(platform.uname())"
   ]
  }
 ],
 "metadata": {
  "celltoolbar": "编辑元数据",
  "kernelspec": {
   "display_name": "RPyc-Python",
   "language": "Python",
   "name": "rpyc"
  },
  "language_info": {
   "codemirror_mode": "python",
   "file_extension": ".py",
   "mimetype": "text/python",
   "name": "Python"
  }
 },
 "nbformat": 4,
 "nbformat_minor": 4
}
