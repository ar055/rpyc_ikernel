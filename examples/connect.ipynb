{
 "cells": [
  {
   "cell_type": "code",
   "execution_count": 1,
   "metadata": {},
   "outputs": [
    {
     "name": "stdout",
     "output_type": "stream",
     "text": [
      "uname_result(system='Linux', node='sipeed', release='4.9.118', version='#110 PREEMPT Fri Dec 25 08:16:04 UTC 2020', machine='armv7l', processor='')\n"
     ]
    }
   ],
   "source": [
    "# 请将 \"localhost\" 修改成设备的 IP 地址，即可连接你的硬件。\n",
    "!connect(\"192.168.0.171\")\n",
    "\n",
    "# 连接成功会显示远端机器的硬件信息。\n",
    "import platform\n",
    "print(platform.uname())"
   ]
  },
  {
   "cell_type": "code",
   "execution_count": 1,
   "metadata": {},
   "outputs": [],
   "source": [
    "import platform"
   ]
  },
  {
   "cell_type": "code",
   "execution_count": 1,
   "metadata": {},
   "outputs": [
    {
     "name": "stdout",
     "output_type": "stream",
     "text": [
      "uname_result(system='Linux', node='sipeed', release='4.9.118', version='#110 PREEMPT Fri Dec 25 08:16:04 UTC 2020', machine='armv7l', processor='')\n"
     ]
    }
   ],
   "source": [
    "print(platform.uname())"
   ]
  },
  {
   "cell_type": "code",
   "execution_count": 1,
   "metadata": {},
   "outputs": [
    {
     "name": "stderr",
     "output_type": "stream",
     "text": [
      "2020-12-30 10:07:29,714 - rpyc_ikernel - ERROR - name 'platform' is not defined\n",
      "\n",
      "========= Remote Traceback (1) =========\n",
      "Traceback (most recent call last):\n",
      "  File \"/usr/lib/python3.8/site-packages/rpyc/core/protocol.py\", line 320, in _dispatch_request\n",
      "  File \"/usr/lib/python3.8/site-packages/rpyc/core/protocol.py\", line 593, in _handle_call\n",
      "  File \"/usr/lib/python3.8/site-packages/rpyc/core/service.py\", line 152, in execute\n",
      "  File \"<string>\", line 3, in <module>\n",
      "NameError: name 'platform' is not defined\n",
      "\n"
     ]
    }
   ],
   "source": [
    "!connect(\"192.168.0.171\")\n",
    "# 当它重新连接以后环境是干净的，所以会报 name 'platform' is not defined 。\n",
    "print(platform.uname())"
   ]
  },
  {
   "cell_type": "code",
   "execution_count": 1,
   "metadata": {},
   "outputs": [],
   "source": [
    "import platform"
   ]
  },
  {
   "cell_type": "code",
   "execution_count": 1,
   "metadata": {},
   "outputs": [
    {
     "name": "stdout",
     "output_type": "stream",
     "text": [
      "uname_result(system='Linux', node='sipeed', release='4.9.118', version='#110 PREEMPT Fri Dec 25 08:16:04 UTC 2020', machine='armv7l', processor='')\n"
     ]
    }
   ],
   "source": [
    "print(platform.uname())"
   ]
  },
  {
   "cell_type": "code",
   "execution_count": null,
   "metadata": {},
   "outputs": [],
   "source": []
  }
 ],
 "metadata": {
  "celltoolbar": "编辑元数据",
  "kernelspec": {
   "display_name": "RPyc-Python",
   "language": "Python",
   "name": "rpyc"
  },
  "language_info": {
   "codemirror_mode": "python",
   "file_extension": ".py",
   "mimetype": "text/python",
   "name": "Python"
  }
 },
 "nbformat": 4,
 "nbformat_minor": 4
}
