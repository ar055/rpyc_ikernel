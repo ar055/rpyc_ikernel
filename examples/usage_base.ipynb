{
 "cells": [
  {
   "cell_type": "code",
   "execution_count": 1,
   "metadata": {
    "scrolled": true
   },
   "outputs": [
    {
     "name": "stdout",
     "output_type": "stream",
     "text": [
      "uname_result(system='Linux', node='dls-pc', release='5.4.80-2-MANJARO', version='#1 SMP PREEMPT Sat Nov 28 09:58:18 UTC 2020', machine='x86_64', processor='')\n",
      "Sun Jan  3 00:09:03 2021\n"
     ]
    }
   ],
   "source": [
    "import platform\n",
    "print(platform.uname())\n",
    "import time\n",
    "print(time.asctime())"
   ]
  },
  {
   "cell_type": "code",
   "execution_count": 1,
   "metadata": {},
   "outputs": [
    {
     "name": "stderr",
     "output_type": "stream",
     "text": [
      "2021-01-02 20:04:53,866 - rpyc_ikernel - ERROR - HELLO\n",
      "\n",
      "========= Remote Traceback (1) =========\n",
      "Traceback (most recent call last):\n",
      "  File \"/home/dls/.local/lib/python3.8/site-packages/rpyc/core/protocol.py\", line 324, in _dispatch_request\n",
      "    res = self._HANDLERS[handler](self, *args)\n",
      "  File \"/home/dls/.local/lib/python3.8/site-packages/rpyc/core/protocol.py\", line 592, in _handle_call\n",
      "    return obj(*args, **dict(kwargs))\n",
      "  File \"/home/dls/.local/lib/python3.8/site-packages/rpyc/core/service.py\", line 152, in execute\n",
      "    execute(text, self.namespace)\n",
      "  File \"<string>\", line 2, in <module>\n",
      "Exception: HELLO\n",
      "\n"
     ]
    },
    {
     "name": "stdout",
     "output_type": "stream",
     "text": [
      "test\n"
     ]
    }
   ],
   "source": [
    "print('test')\n",
    "raise Exception('HELLO')"
   ]
  },
  {
   "cell_type": "code",
   "execution_count": 1,
   "metadata": {},
   "outputs": [
    {
     "name": "stderr",
     "output_type": "stream",
     "text": [
      "2021-01-02 20:04:54,609 - rpyc_ikernel - ERROR - division by zero\n",
      "\n",
      "========= Remote Traceback (1) =========\n",
      "Traceback (most recent call last):\n",
      "  File \"/home/dls/.local/lib/python3.8/site-packages/rpyc/core/protocol.py\", line 324, in _dispatch_request\n",
      "    res = self._HANDLERS[handler](self, *args)\n",
      "  File \"/home/dls/.local/lib/python3.8/site-packages/rpyc/core/protocol.py\", line 592, in _handle_call\n",
      "    return obj(*args, **dict(kwargs))\n",
      "  File \"/home/dls/.local/lib/python3.8/site-packages/rpyc/core/service.py\", line 152, in execute\n",
      "    execute(text, self.namespace)\n",
      "  File \"<string>\", line 1, in <module>\n",
      "ZeroDivisionError: division by zero\n",
      "\n"
     ]
    }
   ],
   "source": [
    "255 / 0"
   ]
  },
  {
   "cell_type": "code",
   "execution_count": 1,
   "metadata": {},
   "outputs": [
    {
     "name": "stdout",
     "output_type": "stream",
     "text": [
      "51.0\n",
      "2266034\n",
      "[<_MainThread(MainThread, started 140352145770304)>, <Thread(Thread-2, started daemon 140352128689728)>, <Thread(Thread-4, started daemon 140352111613504)>, <Thread(Thread-6, started daemon 140352102958656)>, <Thread(Thread-7, started daemon 140352120297024)>, <Thread(Thread-8, started daemon 140352094565952)>, <Thread(Thread-9, started daemon 140351746602560)>, <Thread(Thread-10, started daemon 140351738209856)>, <Thread(Thread-11, started daemon 140351729817152)>, <Thread(Thread-12, started daemon 140351721424448)>]\n"
     ]
    }
   ],
   "source": [
    "tmp = 255 / 5\n",
    "print(tmp)\n",
    "import os\n",
    "print(os.getpid())\n",
    "import threading\n",
    "print(threading.enumerate())\n"
   ]
  },
  {
   "cell_type": "code",
   "execution_count": 1,
   "metadata": {},
   "outputs": [
    {
     "name": "stdout",
     "output_type": "stream",
     "text": [
      "1609589096.6407473\n",
      "1609589097.6447437\n",
      "1609589098.649207\n",
      "1609589099.6510198\n",
      "1609589100.6566405\n"
     ]
    }
   ],
   "source": [
    "\n",
    "import time\n",
    "for i in range(5):\n",
    "    time.sleep(1)\n",
    "    print(time.time())\n",
    "    \n",
    "# dont use such as code\n",
    "'''\n",
    "while True:\n",
    "    time.sleep(1)\n",
    "    pass\n",
    "'''"
   ]
  },
  {
   "cell_type": "code",
   "execution_count": null,
   "metadata": {},
   "outputs": [],
   "source": []
  }
 ],
 "metadata": {
  "kernelspec": {
   "display_name": "RPyc-Python",
   "language": "Python",
   "name": "rpyc"
  },
  "language_info": {
   "codemirror_mode": "python",
   "file_extension": ".py",
   "mimetype": "text/python",
   "name": "Python"
  }
 },
 "nbformat": 4,
 "nbformat_minor": 4
}
