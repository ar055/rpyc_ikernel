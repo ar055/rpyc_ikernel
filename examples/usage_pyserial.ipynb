{
 "cells": [
  {
   "cell_type": "code",
   "execution_count": 1,
   "metadata": {},
   "outputs": [
    {
     "name": "stdout",
     "output_type": "stream",
     "text": [
      "uname_result(system='Linux', node='sipeed', release='4.9.118', version='#110 PREEMPT Fri Dec 25 08:16:04 UTC 2020', machine='armv7l', processor='')\n",
      "   __  ___     _        __   _               \n",
      "  /  |/  /__ _(_)_ __  / /  (_)__  __ ____ __\n",
      " / /|_/ / _ `/ /\\ \\ / / /__/ / _ \\/ // /\\ \\ /\n",
      "/_/  /_/\\_,_/_//_\\_\\ /____/_/_//_/\\_,_//_\\_\\ \n",
      " ----------------------------------------------\n",
      "\n",
      "\n"
     ]
    }
   ],
   "source": [
    "$connect(\"192.168.0.171\")\n",
    "\n",
    "import platform\n",
    "print(platform.uname())\n",
    "\n",
    "import os\n",
    "print(os.popen('cat cat /etc/banner').read())\n",
    "\n",
    "import os\n",
    "print(os.popen('ln -s /usr/sbin/fbviewer /usr/sbin/display').read())"
   ]
  },
  {
   "cell_type": "code",
   "execution_count": 1,
   "metadata": {},
   "outputs": [
    {
     "name": "stdout",
     "output_type": "stream",
     "text": [
      "serial test start ...\n"
     ]
    },
    {
     "name": "stderr",
     "output_type": "stream",
     "text": [
      "2020-12-30 10:08:14,240 - rpyc_ikernel - ERROR - \r\n",
      "Traceback (most recent call last):\r\n",
      "  File \"<string>\", line 1, in <module>\r\n",
      "KeyboardInterrupt\r\n",
      "\n"
     ]
    }
   ],
   "source": [
    "import serial\n",
    "\n",
    "ser = serial.Serial(\"/dev/ttyS0\",115200)\n",
    "\n",
    "print('serial test start ...')\n",
    "ser.write(b\"Hello Wrold !!!\\n\")\n",
    "try:\n",
    "    while True:\n",
    "        tmp = ser.readline()\n",
    "        print(tmp)\n",
    "        ser.write(tmp)\n",
    "except KeyboardInterrupt:\n",
    "    if ser != None:\n",
    "        ser.close()"
   ]
  },
  {
   "cell_type": "code",
   "execution_count": null,
   "metadata": {},
   "outputs": [],
   "source": []
  }
 ],
 "metadata": {
  "kernelspec": {
   "display_name": "RPyc-Python",
   "language": "Python",
   "name": "rpyc"
  },
  "language_info": {
   "codemirror_mode": "python",
   "file_extension": ".py",
   "mimetype": "text/python",
   "name": "Python"
  }
 },
 "nbformat": 4,
 "nbformat_minor": 4
}
