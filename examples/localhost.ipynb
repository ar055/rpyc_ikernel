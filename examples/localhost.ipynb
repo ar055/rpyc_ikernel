{
 "cells": [
  {
   "cell_type": "code",
   "execution_count": 1,
   "metadata": {
    "scrolled": true
   },
   "outputs": [
    {
     "name": "stdout",
     "output_type": "stream",
     "text": [
      "uname_result(system='Windows', node='XPS13-JUWAN', release='10', version='10.0.18362', machine='AMD64', processor='Intel64 Family 6 Model 142 Stepping 10, GenuineIntel')\n",
      "Fri Dec 18 22:17:51 2020\n"
     ]
    }
   ],
   "source": [
    "import platform\n",
    "print(platform.uname())\n",
    "import time\n",
    "print(time.asctime())"
   ]
  },
  {
   "cell_type": "code",
   "execution_count": 1,
   "metadata": {},
   "outputs": [
    {
     "name": "stderr",
     "output_type": "stream",
     "text": [
      "2020-12-18 22:17:51,857 - rpyc_ikernel - ERROR - HELLO\n",
      "\n",
      "========= Remote Traceback (1) =========\n",
      "Traceback (most recent call last):\n",
      "  File \"C:\\Users\\Juwan\\AppData\\Local\\Programs\\Python\\Python35-32\\lib\\site-packages\\rpyc\\core\\protocol.py\", line 320, in _dispatch_request\n",
      "    res = self._HANDLERS[handler](self, *args)\n",
      "  File \"C:\\Users\\Juwan\\AppData\\Local\\Programs\\Python\\Python35-32\\lib\\site-packages\\rpyc\\core\\protocol.py\", line 593, in _handle_call\n",
      "    return obj(*args, **dict(kwargs))\n",
      "  File \"C:\\Users\\Juwan\\AppData\\Local\\Programs\\Python\\Python35-32\\lib\\site-packages\\rpyc\\core\\service.py\", line 152, in execute\n",
      "    execute(text, self.namespace)\n",
      "  File \"<string>\", line 2, in <module>\n",
      "Exception: HELLO\n",
      "\n"
     ]
    },
    {
     "name": "stdout",
     "output_type": "stream",
     "text": [
      "test\n"
     ]
    }
   ],
   "source": [
    "print('test')\n",
    "raise Exception('HELLO')"
   ]
  },
  {
   "cell_type": "code",
   "execution_count": 1,
   "metadata": {},
   "outputs": [
    {
     "name": "stderr",
     "output_type": "stream",
     "text": [
      "2020-12-18 22:17:52,245 - rpyc_ikernel - ERROR - division by zero\n",
      "\n",
      "========= Remote Traceback (1) =========\n",
      "Traceback (most recent call last):\n",
      "  File \"C:\\Users\\Juwan\\AppData\\Local\\Programs\\Python\\Python35-32\\lib\\site-packages\\rpyc\\core\\protocol.py\", line 320, in _dispatch_request\n",
      "    res = self._HANDLERS[handler](self, *args)\n",
      "  File \"C:\\Users\\Juwan\\AppData\\Local\\Programs\\Python\\Python35-32\\lib\\site-packages\\rpyc\\core\\protocol.py\", line 593, in _handle_call\n",
      "    return obj(*args, **dict(kwargs))\n",
      "  File \"C:\\Users\\Juwan\\AppData\\Local\\Programs\\Python\\Python35-32\\lib\\site-packages\\rpyc\\core\\service.py\", line 152, in execute\n",
      "    execute(text, self.namespace)\n",
      "  File \"<string>\", line 1, in <module>\n",
      "ZeroDivisionError: division by zero\n",
      "\n"
     ]
    }
   ],
   "source": [
    "255 / 0"
   ]
  },
  {
   "cell_type": "code",
   "execution_count": 1,
   "metadata": {},
   "outputs": [
    {
     "name": "stdout",
     "output_type": "stream",
     "text": [
      "51.0\n",
      "17620\n",
      "[<Thread(Thread-75, started daemon 9952)>, <Thread(Thread-74, started daemon 5560)>, <Thread(Thread-76, started daemon 8744)>, <_MainThread(MainThread, started 18936)>, <Thread(Thread-77, started daemon 18972)>]\n"
     ]
    }
   ],
   "source": [
    "tmp = 255 / 5\n",
    "print(tmp)\n",
    "import os\n",
    "print(os.getpid())\n",
    "import threading\n",
    "print(threading.enumerate())\n"
   ]
  },
  {
   "cell_type": "code",
   "execution_count": 1,
   "metadata": {},
   "outputs": [
    {
     "name": "stdout",
     "output_type": "stream",
     "text": [
      "1608301074.1835814\n",
      "1608301075.186282\n",
      "1608301076.1959107\n",
      "1608301077.2019236\n"
     ]
    },
    {
     "name": "stderr",
     "output_type": "stream",
     "text": [
      "2020-12-18 22:17:58,282 - rpyc_ikernel - ERROR - \r\n",
      "Traceback (most recent call last):\r\n",
      "  File \"<string>\", line 1, in <module>\r\n",
      "KeyboardInterrupt\r\n",
      "\n"
     ]
    }
   ],
   "source": [
    "\n",
    "import time\n",
    "for i in range(5):\n",
    "    time.sleep(1)\n",
    "    print(time.time())\n",
    "    \n",
    "# dont use such as code\n",
    "'''\n",
    "while True:\n",
    "    time.sleep(1)\n",
    "    pass\n",
    "'''"
   ]
  }
 ],
 "metadata": {
  "kernelspec": {
   "display_name": "RPyc-Python",
   "language": "Python",
   "name": "rpyc"
  },
  "language_info": {
   "codemirror_mode": "python",
   "file_extension": ".py",
   "mimetype": "text/python",
   "name": "Python"
  }
 },
 "nbformat": 4,
 "nbformat_minor": 4
}
