{
 "cells": [
  {
   "cell_type": "code",
   "execution_count": 1,
   "metadata": {},
   "outputs": [
    {
     "name": "stderr",
     "output_type": "stream",
     "text": [
      "2020-12-14 21:23:27,136 - rpyc_ikernel - DEBUG - \n",
      "*** MESSAGE TYPE:execute_request***\n",
      "2020-12-14 21:23:27,139 - rpyc_ikernel - DEBUG -    Content: {'code': \"print('test')\", 'silent': False, 'store_history': True, 'user_expressions': {}, 'allow_stdin': True, 'stop_on_error': True}\n",
      "   --->\n",
      "   \n",
      "2020-12-14 21:23:27,141 - rpyc_ikernel - DEBUG - execute_request: {'header': {'msg_id': 'ba15e4c90a1a4ea48ea325ab67119fcf', 'username': 'username', 'session': '718272dfd75b4c71846118e2d221182f', 'msg_type': 'execute_request', 'version': '5.2', 'date': datetime.datetime(2020, 12, 14, 13, 23, 27, 135433, tzinfo=datetime.timezone.utc)}, 'msg_id': 'ba15e4c90a1a4ea48ea325ab67119fcf', 'msg_type': 'execute_request', 'parent_header': {}, 'metadata': {}, 'content': {'code': \"print('test')\", 'silent': False, 'store_history': True, 'user_expressions': {}, 'allow_stdin': True, 'stop_on_error': True}, 'buffers': []}\n",
      "2020-12-14 21:23:27,144 - rpyc_ikernel - INFO - print('test')\n"
     ]
    },
    {
     "name": "stdout",
     "output_type": "stream",
     "text": [
      "test\n"
     ]
    },
    {
     "name": "stderr",
     "output_type": "stream",
     "text": [
      "2020-12-14 21:23:27,164 - rpyc_ikernel - DEBUG - {'header': {'msg_id': '6f4ad04e-65b2b9b96e93bfb315258768_8', 'msg_type': 'execute_reply', 'username': 'dls', 'session': '6f4ad04e-65b2b9b96e93bfb315258768', 'date': datetime.datetime(2020, 12, 14, 13, 23, 27, 164537, tzinfo=datetime.timezone.utc), 'version': '5.3'}, 'msg_id': '6f4ad04e-65b2b9b96e93bfb315258768_8', 'msg_type': 'execute_reply', 'parent_header': {'msg_id': 'ba15e4c90a1a4ea48ea325ab67119fcf', 'username': 'username', 'session': '718272dfd75b4c71846118e2d221182f', 'msg_type': 'execute_request', 'version': '5.2', 'date': datetime.datetime(2020, 12, 14, 13, 23, 27, 135433, tzinfo=datetime.timezone.utc)}, 'content': {'status': 'ok', 'execution_count': 1, 'payload': [], 'user_expressions': {}}, 'metadata': {'started': datetime.datetime(2020, 12, 14, 13, 23, 27, 144035, tzinfo=datetime.timezone.utc), 'dependencies_met': True, 'engine': 'f5570fb8-7957-432f-a909-f9c053a43965', 'status': 'ok'}, 'tracker': <zmq.sugar.tracker.MessageTracker object at 0x7f4257d9d6a0>}\n"
     ]
    }
   ],
   "source": [
    "print('test')"
   ]
  },
  {
   "cell_type": "code",
   "execution_count": null,
   "metadata": {},
   "outputs": [
    {
     "name": "stderr",
     "output_type": "stream",
     "text": [
      "2020-12-14 21:23:33,404 - rpyc_ikernel - DEBUG - \n",
      "*** MESSAGE TYPE:execute_request***\n",
      "2020-12-14 21:23:33,405 - rpyc_ikernel - DEBUG -    Content: {'code': 'import time\\nwhile True:\\n    time.sleep(0.1)\\n    print(time.time())', 'silent': False, 'store_history': True, 'user_expressions': {}, 'allow_stdin': True, 'stop_on_error': True}\n",
      "   --->\n",
      "   \n",
      "2020-12-14 21:23:33,405 - rpyc_ikernel - DEBUG - execute_request: {'header': {'msg_id': '7dc00675ddec4ef0a943fa77b1ef54d2', 'username': 'username', 'session': '718272dfd75b4c71846118e2d221182f', 'msg_type': 'execute_request', 'version': '5.2', 'date': datetime.datetime(2020, 12, 14, 13, 23, 33, 403908, tzinfo=datetime.timezone.utc)}, 'msg_id': '7dc00675ddec4ef0a943fa77b1ef54d2', 'msg_type': 'execute_request', 'parent_header': {}, 'metadata': {}, 'content': {'code': 'import time\\nwhile True:\\n    time.sleep(0.1)\\n    print(time.time())', 'silent': False, 'store_history': True, 'user_expressions': {}, 'allow_stdin': True, 'stop_on_error': True}, 'buffers': []}\n",
      "2020-12-14 21:23:33,407 - rpyc_ikernel - INFO - import time\n",
      "while True:\n",
      "    time.sleep(0.1)\n",
      "    print(time.time())\n"
     ]
    },
    {
     "name": "stdout",
     "output_type": "stream",
     "text": [
      "1607952213.5164046\n",
      "1607952213.6214077\n",
      "1607952213.726854\n",
      "1607952213.8331242\n",
      "1607952213.9386356\n",
      "1607952214.0437424\n",
      "1607952214.1488795\n",
      "1607952214.2553437\n",
      "1607952214.3606896\n",
      "1607952214.4668994\n",
      "1607952214.5719054\n",
      "1607952214.677268\n",
      "1607952214.7829306\n",
      "1607952214.889048\n",
      "1607952214.994324\n",
      "1607952215.1010356\n",
      "1607952215.2064607\n",
      "1607952215.3115575\n"
     ]
    }
   ],
   "source": [
    "import time\n",
    "while True:\n",
    "    time.sleep(0.1)\n",
    "    print(time.time())"
   ]
  },
  {
   "cell_type": "code",
   "execution_count": 1,
   "metadata": {},
   "outputs": [
    {
     "name": "stderr",
     "output_type": "stream",
     "text": [
      "2020-12-14 21:23:42,176 - rpyc_ikernel - DEBUG - \n",
      "*** MESSAGE TYPE:execute_request***\n",
      "2020-12-14 21:23:42,180 - rpyc_ikernel - DEBUG -    Content: {'code': \"raise Exception('HELLO')\", 'silent': False, 'store_history': True, 'user_expressions': {}, 'allow_stdin': True, 'stop_on_error': True}\n",
      "   --->\n",
      "   \n",
      "2020-12-14 21:23:42,182 - rpyc_ikernel - DEBUG - execute_request: {'header': {'msg_id': 'afe971e842f0489db9be9afa036ac9c0', 'username': 'username', 'session': '718272dfd75b4c71846118e2d221182f', 'msg_type': 'execute_request', 'version': '5.2', 'date': datetime.datetime(2020, 12, 14, 13, 23, 42, 175732, tzinfo=datetime.timezone.utc)}, 'msg_id': 'afe971e842f0489db9be9afa036ac9c0', 'msg_type': 'execute_request', 'parent_header': {}, 'metadata': {}, 'content': {'code': \"raise Exception('HELLO')\", 'silent': False, 'store_history': True, 'user_expressions': {}, 'allow_stdin': True, 'stop_on_error': True}, 'buffers': []}\n",
      "2020-12-14 21:23:42,186 - rpyc_ikernel - INFO - raise Exception('HELLO')\n",
      "2020-12-14 21:23:42,207 - rpyc_ikernel - ERROR - HELLO\n",
      "\n",
      "========= Remote Traceback (1) =========\n",
      "Traceback (most recent call last):\n",
      "  File \"/home/dls/.local/lib/python3.8/site-packages/rpyc/core/protocol.py\", line 320, in _dispatch_request\n",
      "    res = self._HANDLERS[handler](self, *args)\n",
      "  File \"/home/dls/.local/lib/python3.8/site-packages/rpyc/core/protocol.py\", line 593, in _handle_call\n",
      "    return obj(*args, **dict(kwargs))\n",
      "  File \"<string>\", line 1, in <module>\n",
      "Exception: HELLO\n",
      "\n",
      "2020-12-14 21:23:42,210 - rpyc_ikernel - DEBUG - {'header': {'msg_id': 'a7b51f02-0cfe929c857d40fed4660b95_8', 'msg_type': 'execute_reply', 'username': 'dls', 'session': 'a7b51f02-0cfe929c857d40fed4660b95', 'date': datetime.datetime(2020, 12, 14, 13, 23, 42, 209675, tzinfo=datetime.timezone.utc), 'version': '5.3'}, 'msg_id': 'a7b51f02-0cfe929c857d40fed4660b95_8', 'msg_type': 'execute_reply', 'parent_header': {'msg_id': 'afe971e842f0489db9be9afa036ac9c0', 'username': 'username', 'session': '718272dfd75b4c71846118e2d221182f', 'msg_type': 'execute_request', 'version': '5.2', 'date': datetime.datetime(2020, 12, 14, 13, 23, 42, 175732, tzinfo=datetime.timezone.utc)}, 'content': {'status': 'ok', 'execution_count': 1, 'payload': [], 'user_expressions': {}}, 'metadata': {'started': datetime.datetime(2020, 12, 14, 13, 23, 42, 185621, tzinfo=datetime.timezone.utc), 'dependencies_met': True, 'engine': '46c05eb2-50db-4621-923d-048f18946bbd', 'status': 'ok'}, 'tracker': <zmq.sugar.tracker.MessageTracker object at 0x7efcc31e36a0>}\n"
     ]
    }
   ],
   "source": [
    "raise Exception('HELLO')"
   ]
  },
  {
   "cell_type": "code",
   "execution_count": null,
   "metadata": {},
   "outputs": [],
   "source": []
  },
  {
   "cell_type": "code",
   "execution_count": null,
   "metadata": {},
   "outputs": [],
   "source": []
  },
  {
   "cell_type": "code",
   "execution_count": null,
   "metadata": {},
   "outputs": [],
   "source": []
  },
  {
   "cell_type": "code",
   "execution_count": null,
   "metadata": {},
   "outputs": [],
   "source": []
  }
 ],
 "metadata": {
  "kernelspec": {
   "display_name": "RPyc-Python",
   "language": "Python",
   "name": "rpyc"
  },
  "language_info": {
   "codemirror_mode": "python",
   "file_extension": ".py",
   "mimetype": "text/python",
   "name": "Python"
  }
 },
 "nbformat": 4,
 "nbformat_minor": 4
}
