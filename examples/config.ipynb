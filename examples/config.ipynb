{
 "cells": [
  {
   "cell_type": "code",
   "execution_count": 1,
   "metadata": {},
   "outputs": [
    {
     "name": "stderr",
     "output_type": "stream",
     "text": [
      "2020-12-15 21:19:51,553 - rpyc_ikernel - ERROR - uname_result(system='Linux', node='dls-xps13-9360', release='5.4.0-56-generic', version='#62-Ubuntu SMP Mon Nov 23 19:20:19 UTC 2020', machine='x86_64', processor='x86_64')\n"
     ]
    },
    {
     "name": "stdout",
     "output_type": "stream",
     "text": [
      "uname_result(system='Linux', node='linux-lab', release='5.4.0-56-generic', version='#62-Ubuntu SMP Mon Nov 23 19:20:19 UTC 2020', machine='x86_64', processor='x86_64')\n",
      "1608038391.6229608\n"
     ]
    }
   ],
   "source": [
    "# exec(import platform)\n",
    "# exec(self.log.error(platform.uname()))\n",
    "# exec(self.connect_remote(\"172.20.152.133\"))\n",
    "import platform\n",
    "print(platform.uname())\n",
    "import time\n",
    "print(time.time())"
   ]
  },
  {
   "cell_type": "code",
   "execution_count": 1,
   "metadata": {},
   "outputs": [
    {
     "name": "stderr",
     "output_type": "stream",
     "text": [
      "2020-12-15 21:16:31,536 - rpyc_ikernel - ERROR - name 'time' is not defined\n",
      "\n",
      "========= Remote Traceback (1) =========\n",
      "Traceback (most recent call last):\n",
      "  File \"/home/dls/.local/lib/python3.8/site-packages/rpyc/core/protocol.py\", line 320, in _dispatch_request\n",
      "    res = self._HANDLERS[handler](self, *args)\n",
      "  File \"/home/dls/.local/lib/python3.8/site-packages/rpyc/core/protocol.py\", line 593, in _handle_call\n",
      "    return obj(*args, **dict(kwargs))\n",
      "  File \"/home/dls/.local/lib/python3.8/site-packages/rpyc/core/service.py\", line 152, in execute\n",
      "    execute(text, self.namespace)\n",
      "  File \"<string>\", line 2, in <module>\n",
      "NameError: name 'time' is not defined\n",
      "\n"
     ]
    }
   ],
   "source": [
    "# exec(self.connect_remote(\"localhost\"))\n",
    "print(time.asctime())"
   ]
  },
  {
   "cell_type": "code",
   "execution_count": 1,
   "metadata": {},
   "outputs": [
    {
     "name": "stdout",
     "output_type": "stream",
     "text": [
      "uname_result(system='Linux', node='dls-xps13-9360', release='5.4.0-56-generic', version='#62-Ubuntu SMP Mon Nov 23 19:20:19 UTC 2020', machine='x86_64', processor='x86_64')\n",
      "Tue Dec 15 21:18:50 2020\n"
     ]
    }
   ],
   "source": [
    "import platform\n",
    "print(platform.uname())\n",
    "import time\n",
    "print(time.asctime())"
   ]
  },
  {
   "cell_type": "code",
   "execution_count": null,
   "metadata": {},
   "outputs": [],
   "source": []
  }
 ],
 "metadata": {
  "celltoolbar": "编辑元数据",
  "kernelspec": {
   "display_name": "RPyc-Python",
   "language": "Python",
   "name": "rpyc"
  },
  "language_info": {
   "codemirror_mode": "python",
   "file_extension": ".py",
   "mimetype": "text/python",
   "name": "Python"
  }
 },
 "nbformat": 4,
 "nbformat_minor": 4
}
