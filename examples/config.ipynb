{
 "cells": [
  {
   "cell_type": "code",
   "execution_count": 1,
   "metadata": {},
   "outputs": [
    {
     "name": "stdout",
     "output_type": "stream",
     "text": [
      "uname_result(system='Linux', node='linux-lab', release='5.4.0-56-generic', version='#62-Ubuntu SMP Mon Nov 23 19:20:19 UTC 2020', machine='x86_64', processor='x86_64')\n"
     ]
    }
   ],
   "source": [
    "################ 连接你的硬件 #################\n",
    "# 将下述代码的 IP 地址修改后运行一次即可。\n",
    "# exec(self.connect_remote(\"172.20.152.133\")) # 你也可以填 \"localhost:18812\"\n",
    "#############################################\n",
    "import platform\n",
    "print(platform.uname())"
   ]
  },
  {
   "cell_type": "code",
   "execution_count": 1,
   "metadata": {},
   "outputs": [],
   "source": [
    "# exec(self.connect_remote(\"172.20.152.133\"))\n",
    "import platform"
   ]
  },
  {
   "cell_type": "code",
   "execution_count": 1,
   "metadata": {},
   "outputs": [
    {
     "name": "stdout",
     "output_type": "stream",
     "text": [
      "uname_result(system='Linux', node='linux-lab', release='5.4.0-56-generic', version='#62-Ubuntu SMP Mon Nov 23 19:20:19 UTC 2020', machine='x86_64', processor='x86_64')\n"
     ]
    }
   ],
   "source": [
    "print(platform.uname())"
   ]
  },
  {
   "cell_type": "code",
   "execution_count": 1,
   "metadata": {},
   "outputs": [
    {
     "name": "stderr",
     "output_type": "stream",
     "text": [
      "2020-12-15 22:18:20,906 - rpyc_ikernel - ERROR - name 'platform' is not defined\n",
      "\n",
      "========= Remote Traceback (1) =========\n",
      "Traceback (most recent call last):\n",
      "  File \"/home/dls/.local/lib/python3.8/site-packages/rpyc/core/protocol.py\", line 320, in _dispatch_request\n",
      "    res = self._HANDLERS[handler](self, *args)\n",
      "  File \"/home/dls/.local/lib/python3.8/site-packages/rpyc/core/protocol.py\", line 593, in _handle_call\n",
      "    return obj(*args, **dict(kwargs))\n",
      "  File \"/home/dls/.local/lib/python3.8/site-packages/rpyc/core/service.py\", line 152, in execute\n",
      "    execute(text, self.namespace)\n",
      "  File \"<string>\", line 2, in <module>\n",
      "NameError: name 'platform' is not defined\n",
      "\n"
     ]
    }
   ],
   "source": [
    "# exec(self.connect_remote(\"localhost\")) # 它连接以后环境是干净的，所以会报 name 'platform' is not defined 。\n",
    "print(platform.uname())"
   ]
  },
  {
   "cell_type": "code",
   "execution_count": 1,
   "metadata": {},
   "outputs": [],
   "source": [
    "import platform"
   ]
  },
  {
   "cell_type": "code",
   "execution_count": 1,
   "metadata": {},
   "outputs": [
    {
     "name": "stdout",
     "output_type": "stream",
     "text": [
      "uname_result(system='Linux', node='dls-xps13-9360', release='5.4.0-56-generic', version='#62-Ubuntu SMP Mon Nov 23 19:20:19 UTC 2020', machine='x86_64', processor='x86_64')\n"
     ]
    }
   ],
   "source": [
    "print(platform.uname())"
   ]
  },
  {
   "cell_type": "code",
   "execution_count": 1,
   "metadata": {},
   "outputs": [
    {
     "name": "stderr",
     "output_type": "stream",
     "text": [
      "2020-12-15 22:14:00,060 - rpyc_ikernel - ERROR - uname_result(system='Linux', node='dls-xps13-9360', release='5.4.0-56-generic', version='#62-Ubuntu SMP Mon Nov 23 19:20:19 UTC 2020', machine='x86_64', processor='x86_64')\n"
     ]
    },
    {
     "name": "stdout",
     "output_type": "stream",
     "text": [
      "uname_result(system='Linux', node='linux-lab', release='5.4.0-56-generic', version='#62-Ubuntu SMP Mon Nov 23 19:20:19 UTC 2020', machine='x86_64', processor='x86_64')\n",
      "Tue Dec 15 22:14:00 2020\n",
      "[<_MainThread(MainThread, started 140495679039296)>, <Thread(PlumbumTimeoutThread, started daemon 140495663642368)>, <Thread(Thread-37, started daemon 140495649376000)>]\n"
     ]
    }
   ],
   "source": [
    "################ 如何调用主机的 Python 代码? ##########\n",
    "#   exec(import platform)\n",
    "#   exec(self.log.error(platform.uname()))\n",
    "#   exec(print(self.remote.namespace['result'])) # 这里演示了获取远端的域内变量（result）。\n",
    "#\n",
    "# 注意：每行且只有一个 exec() 内的代码会被主机执行。\n",
    "#\n",
    "################ 如何调用主机的 Python 代码? ##########\n",
    "import time\n",
    "print(time.asctime())\n",
    "\n",
    "result = platform.uname() # 这里配置了远端的域内变量（result）。\n",
    "\n",
    "# 查看从机上正在运行的线程。\n",
    "import threading\n",
    "print(threading.enumerate())"
   ]
  }
 ],
 "metadata": {
  "celltoolbar": "编辑元数据",
  "kernelspec": {
   "display_name": "RPyc-Python",
   "language": "Python",
   "name": "rpyc"
  },
  "language_info": {
   "codemirror_mode": "python",
   "file_extension": ".py",
   "mimetype": "text/python",
   "name": "Python"
  }
 },
 "nbformat": 4,
 "nbformat_minor": 4
}
