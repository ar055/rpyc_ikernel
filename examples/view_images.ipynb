{
 "cells": [
  {
   "cell_type": "code",
   "execution_count": 1,
   "metadata": {},
   "outputs": [
    {
     "name": "stdout",
     "output_type": "stream",
     "text": [
      "uname_result(system='Linux', node='dls-xps13-9360', release='5.4.0-56-generic', version='#62-Ubuntu SMP Mon Nov 23 19:20:19 UTC 2020', machine='x86_64', processor='x86_64')\n"
     ]
    }
   ],
   "source": [
    "# 连接硬件，地址为：localhost，记得自行修改。\n",
    "#\n",
    "# exec(self.connect_remote(\"localhost\"))\n",
    "#\n",
    "import platform\n",
    "print(platform.uname())"
   ]
  },
  {
   "cell_type": "code",
   "execution_count": 1,
   "metadata": {},
   "outputs": [
    {
     "data": {
      "image/jpeg": "[encoded data removed]"
     },
     "metadata": {},
     "output_type": "display_data"
    },
    {
     "name": "stderr",
     "output_type": "stream",
     "text": [
      "2020-12-16 22:51:40,934 - rpyc_ikernel - ERROR - \r\n",
      "Traceback (most recent call last):\r\n",
      "  File \"<string>\", line 1, in <module>\r\n",
      "KeyboardInterrupt\r\n",
      "\n"
     ]
    }
   ],
   "source": [
    "# 读取图像，配置要获取的图像缓冲变量 img_buffer\n",
    "# \n",
    "# exec(self.display('img_buffer'))\n",
    "#\n",
    "from PIL import Image\n",
    "\n",
    "import random\n",
    "def randomcolor():\n",
    "    color = \"\"\n",
    "    for i in range(6):\n",
    "        color += ['1','2','3','4','5','6','7','8','9','A','B','C','D','E','F'][random.randint(0,14)]\n",
    "    return \"#\"+color\n",
    "\n",
    "import io, time\n",
    "\n",
    "while True:\n",
    "    time.sleep(0.02)\n",
    "    \n",
    "    img = Image.new(\"RGB\", (320, 240), randomcolor())\n",
    "\n",
    "    img_buffer = io.BytesIO()\n",
    "\n",
    "    img.save(img_buffer, format='JPEG')  # show jupyter notebook\n",
    "    \n",
    "    img.show()                           # show remote lcd\n",
    "    "
   ]
  },
  {
   "cell_type": "code",
   "execution_count": null,
   "metadata": {},
   "outputs": [],
   "source": []
  },
  {
   "cell_type": "code",
   "execution_count": null,
   "metadata": {},
   "outputs": [],
   "source": []
  }
 ],
 "metadata": {
  "kernelspec": {
   "display_name": "RPyc-Python",
   "language": "Python",
   "name": "rpyc"
  },
  "language_info": {
   "codemirror_mode": "python",
   "file_extension": ".py",
   "mimetype": "text/python",
   "name": "Python"
  }
 },
 "nbformat": 4,
 "nbformat_minor": 4
}
