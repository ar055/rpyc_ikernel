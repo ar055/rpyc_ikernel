{
 "cells": [
  {
   "cell_type": "code",
   "execution_count": 1,
   "metadata": {},
   "outputs": [
    {
     "name": "stdout",
     "output_type": "stream",
     "text": [
      "uname_result(system='Linux', node='sipeed', release='4.9.118', version='#110 PREEMPT Fri Dec 25 08:16:04 UTC 2020', machine='armv7l', processor='')\n"
     ]
    }
   ],
   "source": [
    "!connect(\"192.168.0.171\")\n",
    "\n",
    "import platform\n",
    "print(platform.uname())"
   ]
  },
  {
   "cell_type": "code",
   "execution_count": 1,
   "metadata": {},
   "outputs": [
    {
     "name": "stderr",
     "output_type": "stream",
     "text": [
      "Exception in thread 2020-12-30 10:07:01,155 - rpyc_ikernel - ERROR - \r\n",
      "Traceback (most recent call last):\r\n",
      "  File \"<string>\", line 1, in <module>\r\n",
      "KeyboardInterrupt\r\n",
      "\n"
     ]
    }
   ],
   "source": [
    "# 读取图像，配置要获取的图像缓冲变量 img_buffer\n",
    "\n",
    "from PIL import Image\n",
    "\n",
    "import random\n",
    "def randomcolor():\n",
    "    color = \"\"\n",
    "    for i in range(6):\n",
    "        color += ['1','2','3','4','5','6','7','8','9','A','B','C','D','E','F'][random.randint(0,14)]\n",
    "    return \"#\"+color\n",
    "\n",
    "import io, time\n",
    "\n",
    "while True:\n",
    "    \n",
    "    time.sleep(0.1)\n",
    "    \n",
    "    img = Image.new(\"RGB\", (320, 240), randomcolor())\n",
    "\n",
    "    !display(\"img_buffer\", 0.05)\n",
    "    img_buffer = io.BytesIO()\n",
    "    img.save(img_buffer, format='JPEG')  # show jupyter notebook\n",
    "    \n",
    "    img.show()                           # show remote lcd\n",
    "    "
   ]
  },
  {
   "cell_type": "code",
   "execution_count": null,
   "metadata": {},
   "outputs": [],
   "source": []
  }
 ],
 "metadata": {
  "kernelspec": {
   "display_name": "RPyc-Python",
   "language": "Python",
   "name": "rpyc"
  },
  "language_info": {
   "codemirror_mode": "python",
   "file_extension": ".py",
   "mimetype": "text/python",
   "name": "Python"
  }
 },
 "nbformat": 4,
 "nbformat_minor": 4
}
