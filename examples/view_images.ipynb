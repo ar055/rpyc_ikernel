{
 "cells": [
  {
   "cell_type": "code",
   "execution_count": null,
   "metadata": {},
   "outputs": [],
   "source": []
  }
 ],
 "metadata": {
  "kernelspec": {
   "display_name": "RPyc-Python",
   "language": "Python",
   "name": "rpyc"
  },
  "language_info": {
   "codemirror_mode": "python",
   "file_extension": ".py",
   "mimetype": "text/python",
   "name": "Python"
  }
 },
 "nbformat": 4,
 "nbformat_minor": 4
}
