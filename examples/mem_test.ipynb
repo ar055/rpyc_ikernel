{
 "cells": [
  {
   "cell_type": "code",
   "execution_count": 1,
   "metadata": {},
   "outputs": [
    {
     "name": "stdout",
     "output_type": "stream",
     "text": [
      "uname_result(system='Linux', node='sipeed', release='4.9.118', version='#7 PREEMPT Mon Dec 7 10:27:38 UTC 2020', machine='armv7l', processor='')\n"
     ]
    }
   ],
   "source": [
    "!connect(\"192.168.0.171\")\n",
    "\n",
    "import platform\n",
    "print(platform.uname())"
   ]
  },
  {
   "cell_type": "code",
   "execution_count": 1,
   "metadata": {},
   "outputs": [
    {
     "name": "stdout",
     "output_type": "stream",
     "text": [
      "             total       used       free     shared    buffers     cached\n",
      "\n",
      "Mem:         59756      22016      37740         12        444       5296\n",
      "\n",
      "-/+ buffers/cache:      16276      43480\n",
      "\n",
      "Swap:            0          0          0\n",
      "\n",
      "  846 root     11844 S    python3 /root/rpyc_test.py\n",
      "\n"
     ]
    }
   ],
   "source": [
    "'''\n",
    "\n",
    "## 目前关于 Python3 在 V831 上消耗的内存统计\n",
    "\n",
    "Python3 运行的结果。\n",
    "\n",
    "- python3_3.8.5-2_sunxi.ipk\n",
    "\n",
    "  853 root     5352  T    python3\n",
    "  \n",
    "- python3-rpyc (pip install)\n",
    "\n",
    "  846 root     11844 S    python3 /root/rpyc_test.py\n",
    "\n",
    "如下依赖库需运行可知。\n",
    "\n",
    "- python3-pillow_7.2.0-1_sunxi.ipk\n",
    "- python3-numpy_1.19.2-1_sunxi.ipk\n",
    "\n",
    "'''\n",
    "\n",
    "import gc\n",
    "gc.collect()\n",
    "\n",
    "def shell(cmd):\n",
    "    import os\n",
    "    textlist = os.popen(cmd).readlines()\n",
    "    for line in textlist:\n",
    "        print(line)\n",
    "\n",
    "shell('free -m')\n",
    "\n",
    "shell('echo 3 > /proc/sys/vm/drop_caches')\n",
    "\n",
    "shell(\"ps -w | grep %d | head -n 1\" % os.getpid())\n",
    "\n",
    "# shell(\"cat /proc/%s/status\" % os.getpid()) # put mem\n"
   ]
  },
  {
   "cell_type": "code",
   "execution_count": 1,
   "metadata": {},
   "outputs": [
    {
     "name": "stdout",
     "output_type": "stream",
     "text": [
      "             total       used       free     shared    buffers     cached\n",
      "\n",
      "Mem:         59756      36752      23004         12       1076      12960\n",
      "\n",
      "-/+ buffers/cache:      22716      37040\n",
      "\n",
      "Swap:            0          0          0\n",
      "\n"
     ]
    }
   ],
   "source": [
    "import numpy\n",
    "shell('free -m')"
   ]
  },
  {
   "cell_type": "code",
   "execution_count": 1,
   "metadata": {},
   "outputs": [
    {
     "name": "stdout",
     "output_type": "stream",
     "text": [
      "             total       used       free     shared    buffers     cached\n",
      "\n",
      "Mem:         59756      38356      21400         12       1216      13824\n",
      "\n",
      "-/+ buffers/cache:      23316      36440\n",
      "\n",
      "Swap:            0          0          0\n",
      "\n"
     ]
    }
   ],
   "source": [
    "from PIL import Image\n",
    "shell('free -m')"
   ]
  },
  {
   "cell_type": "code",
   "execution_count": null,
   "metadata": {},
   "outputs": [],
   "source": [
    "'''\n",
    "\n",
    "# 1. 一般启动\n",
    "\n",
    "11068  18%   0% python rpyc_test.py\n",
    "\n",
    "# 2. 设置 320 * 240 的纯色 Jpeg 图片传输。\n",
    "\n",
    "17436  29%  68% python rpyc_test.py\n",
    "\n",
    "# 3. 设置 640 * 480 的纯色 Jpeg 图片传输。\n",
    "\n",
    "19172  32%  73% python rpyc_test.py\n",
    "\n",
    "# 4. 最大观察到的情况如下，可能是变量没有被 GC 主动回收。\n",
    "\n",
    "26620  44%  41% python rpyc_test.py\n",
    "\n",
    "在 2. 启动图传测试增加 5M ，加载 from PIL import Image 要 2M\n",
    "存在 image 原图 + 压缩缓冲 两个变量，各 320*240*3 *2 理论约 500K。\n",
    "\n",
    "剩下 2.5M 被系统消耗的不明不白。\n",
    "\n",
    "到 3. 时 640*480*3*2 约 897k 则下面增加了 1M 多的情况，比较符合预期。\n",
    "\n",
    "而 4. 情况可能是 3 和 4 阶段的变量同时存在。\n",
    "\n",
    "'''"
   ]
  }
 ],
 "metadata": {
  "kernelspec": {
   "display_name": "RPyc-Python",
   "language": "Python",
   "name": "rpyc"
  },
  "language_info": {
   "codemirror_mode": "python",
   "file_extension": ".py",
   "mimetype": "text/python",
   "name": "Python"
  }
 },
 "nbformat": 4,
 "nbformat_minor": 4
}
