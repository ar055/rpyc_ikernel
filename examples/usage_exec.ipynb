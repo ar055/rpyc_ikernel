{
 "cells": [
  {
   "cell_type": "code",
   "execution_count": 1,
   "metadata": {},
   "outputs": [
    {
     "name": "stdout",
     "output_type": "stream",
     "text": [
      "uname_result(system='Linux', node='dls-pc', release='5.4.80-2-MANJARO', version='#1 SMP PREEMPT Sat Nov 28 09:58:18 UTC 2020', machine='x86_64', processor='')\n",
      "Sun Jan  3 00:09:15 2021\n",
      "uname_result(system='Linux', node='dls-pc', release='5.4.80-2-MANJARO', version='#1 SMP PREEMPT Sat Nov 28 09:58:18 UTC 2020', machine='x86_64', processor='')\n"
     ]
    }
   ],
   "source": [
    "$connect(\"localhost\")\n",
    "\n",
    "$exec(import platform)\n",
    "$exec(print(platform.uname()))\n",
    "\n",
    "import time\n",
    "print(time.asctime())\n",
    "\n",
    "import platform\n",
    "print(platform.uname())"
   ]
  },
  {
   "cell_type": "code",
   "execution_count": 1,
   "metadata": {},
   "outputs": [],
   "source": [
    "import platform\n",
    "result = platform.uname() # 这里配置了远端的域内变量（result）。"
   ]
  },
  {
   "cell_type": "code",
   "execution_count": 1,
   "metadata": {},
   "outputs": [
    {
     "name": "stdout",
     "output_type": "stream",
     "text": [
      "uname_result(system='Linux', node='dls-pc', release='5.4.80-2-MANJARO', version='#1 SMP PREEMPT Sat Nov 28 09:58:18 UTC 2020', machine='x86_64', processor='')\n"
     ]
    }
   ],
   "source": [
    "$exec(print(self.remote.namespace['result'])) # 这里演示了获取远端的域内变量（result）。"
   ]
  }
 ],
 "metadata": {
  "kernelspec": {
   "display_name": "RPyc-Python",
   "language": "Python",
   "name": "rpyc"
  },
  "language_info": {
   "codemirror_mode": "python",
   "file_extension": ".py",
   "mimetype": "text/python",
   "name": "Python"
  }
 },
 "nbformat": 4,
 "nbformat_minor": 4
}
